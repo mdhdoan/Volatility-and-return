{
 "cells": [
  {
   "cell_type": "code",
   "execution_count": 1,
   "metadata": {},
   "outputs": [],
   "source": [
    "import numpy as np\n",
    "import pandas as pd\n",
    "import matplotlib.pyplot as plt\n",
    "import statsmodels.formula.api as sm"
   ]
  },
  {
   "cell_type": "markdown",
   "metadata": {},
   "source": [
    "# Term Project - Minh Doan\n",
    "\n",
    "## Chosen Topic:\n",
    "### Explore the low volatility anomaly which suggests that portfolios of stocks with lower volatility (and thus lower risk) earn equal or larger returns when compared to portfolios of stocks with higher volatility (and thus higher risk). We consider this observation an anomaly because, if a portfolio is reasonably well-diversified, the portfolio risk should be described almost exclusively by its  𝛽  and a higher  𝛽  ought to lead to higher returns.\n",
    "\n",
    "The data is provided to you:"
   ]
  },
  {
   "cell_type": "code",
   "execution_count": 2,
   "metadata": {},
   "outputs": [
    {
     "name": "stdout",
     "output_type": "stream",
     "text": [
      "<class 'pandas.core.frame.DataFrame'>\n",
      "DatetimeIndex: 240 entries, 2002-01-31 to 2021-12-31\n",
      "Columns: 361 entries, A to MKT\n",
      "dtypes: float64(361)\n",
      "memory usage: 678.8 KB\n"
     ]
    }
   ],
   "source": [
    "df = pd.read_csv(\"Term_Project_Data.csv\", index_col=0, parse_dates=True)\n",
    "df.info()\n",
    "# list(df.columns)"
   ]
  },
  {
   "cell_type": "markdown",
   "metadata": {},
   "source": [
    "### Topic 1: Low Volatility Anomaly\n",
    "Use the data frame df to explore the low volatility anomaly. Your analysis is going to consist of two parts. First, you explore the return earned by ten different portfolios in which the stocks are ordered by volatility. Then you test if a portfolio of high-beta stocks outperforms a portfolio of low-beta stocks in the medium term."
   ]
  },
  {
   "cell_type": "markdown",
   "metadata": {},
   "source": [
    "#### Part a)\n",
    "Estimate the  𝛽  for each stock with an ordinary least squares regression. (It is advisable to run a loop to perform these 360 regressions and to store the results. Then plot a histogram of the values for  𝛽 . Use np.linspace(-1, 4, 51) for the bins in the histogram.\n",
    "- Discuss the histogram. \n",
    "- Look at one stock among the 10 largest and one stock among the 10 smallest values for  𝛽 . Explain why you would expect a very large or very small  𝛽  for these stocks, respectively."
   ]
  },
  {
   "cell_type": "markdown",
   "metadata": {},
   "source": [
    "The given 𝛽 can be calculated as standard deviation"
   ]
  },
  {
   "cell_type": "code",
   "execution_count": 3,
   "metadata": {},
   "outputs": [],
   "source": [
    "import statsmodels.formula.api  as sm\n",
    "beta = {}\n",
    "for stock in df.columns[:-1]:\n",
    "    mod_fit = sm.ols(data=df.loc[:, [stock, \"MKT\"]],\n",
    "                     formula=stock + \"~MKT\").fit()\n",
    "    beta[stock] = mod_fit.params.loc[\"MKT\"]"
   ]
  },
  {
   "cell_type": "code",
   "execution_count": 4,
   "metadata": {
    "scrolled": true
   },
   "outputs": [
    {
     "data": {
      "image/png": "[encoded data removed]",
      "text/plain": [
       "<Figure size 864x432 with 1 Axes>"
      ]
     },
     "metadata": {
      "needs_background": "light"
     },
     "output_type": "display_data"
    }
   ],
   "source": [
    "beta_df = pd.DataFrame.from_dict(beta, orient=\"index\", columns=[\"Beta\"]);\n",
    "fig, ax = plt.subplots(figsize = (12,6));\n",
    "ax.hist(beta_df, bins = np.linspace(-1, 4, 51));\n",
    "ax.set_xlabel(\"Correlation\");\n",
    "ax.set_ylabel(\"Frequencies\");\n",
    "ax.set_title(\"Values of Stadard Deviations of 360 stocks given\");"
   ]
  },
  {
   "cell_type": "markdown",
   "metadata": {},
   "source": [
    "#### Discuss the Histogram:\n",
    "- The histogram shows a similar shape to the Bell curve, which ensures our data does not have a large amount of outliers. \n",
    "- Our histogram shows the stock returns also centered around 1. This means majority of the stocks behave similar to each other, almost at the same increments or decrement. "
   ]
  },
  {
   "cell_type": "code",
   "execution_count": 5,
   "metadata": {},
   "outputs": [
    {
     "data": {
      "text/plain": [
       "RCL    2.462931\n",
       "AMD    2.371799\n",
       "MGM    2.352854\n",
       "AIG    2.305036\n",
       "URI    2.264510\n",
       "LNC    2.242143\n",
       "GT     2.217756\n",
       "HIG    2.183087\n",
       "C      2.075970\n",
       "APA    2.040720\n",
       "Name: Beta, dtype: float64"
      ]
     },
     "execution_count": 5,
     "metadata": {},
     "output_type": "execute_result"
    }
   ],
   "source": [
    "beta_df['Beta'].nlargest(n=10)"
   ]
  },
  {
   "cell_type": "code",
   "execution_count": 6,
   "metadata": {},
   "outputs": [
    {
     "data": {
      "text/plain": [
       "ED     0.165954\n",
       "WEC    0.219450\n",
       "SO     0.229234\n",
       "HSY    0.290025\n",
       "NEM    0.290032\n",
       "GIS    0.301272\n",
       "CLX    0.316291\n",
       "CHD    0.326687\n",
       "HRL    0.333844\n",
       "FE     0.350400\n",
       "Name: Beta, dtype: float64"
      ]
     },
     "execution_count": 6,
     "metadata": {},
     "output_type": "execute_result"
    }
   ],
   "source": [
    "beta_df['Beta'].nsmallest(n=10)"
   ]
  },
  {
   "cell_type": "markdown",
   "metadata": {},
   "source": [
    "#### Look at one stock among the 10 largest and one stock among the 10 smallest values for 𝛽. Explain why you would expect a very large or very small 𝛽 for these stocks, respectively.\n",
    "- One of top 10: Stock AMD - AMD is a semiconductor company. This does explain why its Beta is high, however, this is due to the rise of its success during the time period that the data is taken from. \n",
    "- One of bottom 10: Stock ED - ED is an investor-owned energy company. ED has a very minimal change in its stock price, and this can be contributed to the lack of needs for the company. In my opinion, the lack of growth and the lack of investor's interest in energy investment creates the low range of stock volatility\n",
    "- From a stock investor's perspective, the volatility does show the value against the growth of stocks. A company that has low beta, could still be have a large cap. This would make the company a staple company, and would be able to protect its' stock price over time. Inversely, a company with a large beta could have a small cap, hence would make the company a risk to invest in. "
   ]
  },
  {
   "cell_type": "markdown",
   "metadata": {},
   "source": [
    "#### Part b)\n",
    "Sort the 360 stocks into decile, i.e., form 10 equal-weighted portfolios of 36 stocks each such that the first portfolio contains the 36 stocks with the lowest standard deviation over the 20 year period and the last portfolio contains the 36 stocks with the highest standard deviation over the 20 year period.\n",
    "- Compute the average return for each portfolio.\n",
    "- Compute the variance for each portfolio.\n",
    "- Run a regression against the market portfolio for each portfolio to estimate  𝛽."
   ]
  },
  {
   "cell_type": "code",
   "execution_count": 7,
   "metadata": {},
   "outputs": [],
   "source": [
    "sorted_beta = beta_df.sort_values(by = \"Beta\", ascending = True)\n",
    "# sorted_beta.index[0]"
   ]
  },
  {
   "cell_type": "code",
   "execution_count": 8,
   "metadata": {},
   "outputs": [],
   "source": [
    "beta_portfolios = {}\n",
    "for i in range(0, 10):\n",
    "    beta_portfolios[\"port_\"+str(i)] = []\n",
    "    for row in range(0, 36):\n",
    "        beta_portfolios[\"port_\"+str(i)].append([sorted_beta.index[36 * i + row], \n",
    "                                               sorted_beta[\"Beta\"][36 * i + row]])\n",
    "# beta_portfolios "
   ]
  },
  {
   "cell_type": "code",
   "execution_count": 9,
   "metadata": {},
   "outputs": [
    {
     "name": "stdout",
     "output_type": "stream",
     "text": [
      "Average return of each portfolio is:  [0.40816700454863103, 0.6158974167118969, 0.7571046577215497, 0.8644768774086135, 0.9914566235612723, 1.1120220058850239, 1.2398343490812789, 1.3755491521622103, 1.5524734776491316, 1.9162165151655943] \n",
      "\n",
      "Variance of each portfolio is:  [0.009014056013214982, 0.0020201939890536675, 0.0014234439132038898, 0.0017191640006951378, 0.0008717024504520261, 0.0011430203384703603, 0.001997079037062488, 0.0018051827172448015, 0.004635459175265596, 0.05689805167894954]\n"
     ]
    }
   ],
   "source": [
    "from statistics import mean, variance\n",
    "avg_return = []\n",
    "var_return = []\n",
    "for portfolio in beta_portfolios:\n",
    "    temp_array = []\n",
    "    for stock in beta_portfolios[portfolio]:\n",
    "        temp_array.append(stock[1])\n",
    "    avg_return.append(mean(temp_array))\n",
    "    var_return.append(variance(temp_array))\n",
    "#         break\n",
    "#     break    \n",
    "print(\"Average return of each portfolio is: \", avg_return, \"\\n\")\n",
    "print(\"Variance of each portfolio is: \", var_return)"
   ]
  },
  {
   "cell_type": "code",
   "execution_count": 10,
   "metadata": {},
   "outputs": [
    {
     "data": {
      "text/html": [
       "<div>\n",
       "<style scoped>\n",
       "    .dataframe tbody tr th:only-of-type {\n",
       "        vertical-align: middle;\n",
       "    }\n",
       "\n",
       "    .dataframe tbody tr th {\n",
       "        vertical-align: top;\n",
       "    }\n",
       "\n",
       "    .dataframe thead th {\n",
       "        text-align: right;\n",
       "    }\n",
       "</style>\n",
       "<table border=\"1\" class=\"dataframe\">\n",
       "  <thead>\n",
       "    <tr style=\"text-align: right;\">\n",
       "      <th></th>\n",
       "      <th>Beta</th>\n",
       "    </tr>\n",
       "  </thead>\n",
       "  <tbody>\n",
       "    <tr>\n",
       "      <th>port_0</th>\n",
       "      <td>15.694012</td>\n",
       "    </tr>\n",
       "    <tr>\n",
       "      <th>port_1</th>\n",
       "      <td>23.172307</td>\n",
       "    </tr>\n",
       "    <tr>\n",
       "      <th>port_2</th>\n",
       "      <td>28.255768</td>\n",
       "    </tr>\n",
       "    <tr>\n",
       "      <th>port_3</th>\n",
       "      <td>32.121168</td>\n",
       "    </tr>\n",
       "    <tr>\n",
       "      <th>port_4</th>\n",
       "      <td>36.692438</td>\n",
       "    </tr>\n",
       "    <tr>\n",
       "      <th>port_5</th>\n",
       "      <td>41.032792</td>\n",
       "    </tr>\n",
       "    <tr>\n",
       "      <th>port_6</th>\n",
       "      <td>45.634037</td>\n",
       "    </tr>\n",
       "    <tr>\n",
       "      <th>port_7</th>\n",
       "      <td>50.519769</td>\n",
       "    </tr>\n",
       "    <tr>\n",
       "      <th>port_8</th>\n",
       "      <td>56.889045</td>\n",
       "    </tr>\n",
       "    <tr>\n",
       "      <th>port_9</th>\n",
       "      <td>69.983795</td>\n",
       "    </tr>\n",
       "  </tbody>\n",
       "</table>\n",
       "</div>"
      ],
      "text/plain": [
       "             Beta\n",
       "port_0  15.694012\n",
       "port_1  23.172307\n",
       "port_2  28.255768\n",
       "port_3  32.121168\n",
       "port_4  36.692438\n",
       "port_5  41.032792\n",
       "port_6  45.634037\n",
       "port_7  50.519769\n",
       "port_8  56.889045\n",
       "port_9  69.983795"
      ]
     },
     "execution_count": 10,
     "metadata": {},
     "output_type": "execute_result"
    }
   ],
   "source": [
    "stock_array = []\n",
    "for portfolio in beta_portfolios:\n",
    "    temp_array = []\n",
    "    for stock in beta_portfolios[portfolio]:\n",
    "        temp_array.append(stock[0])\n",
    "    temp_array.append(\"MKT\")\n",
    "    stock_array.append(temp_array)\n",
    "\n",
    "port_0 = df[stock_array[0]].copy()\n",
    "port_0[\"Sum\"] = port_0.sum(axis = 1)\n",
    "port_1 = df[stock_array[1]].copy()\n",
    "port_1[\"Sum\"] = port_1.sum(axis = 1)\n",
    "port_2 = df[stock_array[2]].copy()\n",
    "port_2[\"Sum\"] = port_2.sum(axis = 1)\n",
    "port_3 = df[stock_array[3]].copy()\n",
    "port_3[\"Sum\"] = port_3.sum(axis = 1)\n",
    "port_4 = df[stock_array[4]].copy()\n",
    "port_4[\"Sum\"] = port_4.sum(axis = 1)\n",
    "port_5 = df[stock_array[5]].copy()\n",
    "port_5[\"Sum\"] = port_5.sum(axis = 1)\n",
    "port_6 = df[stock_array[6]].copy()\n",
    "port_6[\"Sum\"] = port_6.sum(axis = 1)\n",
    "port_7 = df[stock_array[7]].copy()\n",
    "port_7[\"Sum\"] = port_7.sum(axis = 1)\n",
    "port_8 = df[stock_array[8]].copy()\n",
    "port_8[\"Sum\"] = port_8.sum(axis = 1)\n",
    "port_9 = df[stock_array[9]].copy()\n",
    "port_9[\"Sum\"] = port_9.sum(axis = 1)\n",
    "\n",
    "port_list = [port_0, port_1, port_2, port_3, port_4, \n",
    "            port_5, port_6, port_7, port_8, port_9]\n",
    "p_beta = {}\n",
    "i = 0\n",
    "for port in port_list:\n",
    "    mod_fit = sm.ols(data = port, formula = \"Sum~MKT\").fit()\n",
    "    p_beta[\"port_\"+str(i)]= mod_fit.params.loc[\"MKT\"]\n",
    "    i = i + 1\n",
    "    \n",
    "p_beta_df = pd.DataFrame.from_dict(p_beta, orient=\"index\", columns=[\"Beta\"])\n",
    "p_beta_df"
   ]
  },
  {
   "cell_type": "markdown",
   "metadata": {},
   "source": [
    "#### Part c)\n",
    "Plot the average return of the portfolios on the y-axis of a scatter plot and the variance of the portfolios on the x-axis. Describe your findings and discuss if you can find the low volatility anomaly."
   ]
  },
  {
   "cell_type": "code",
   "execution_count": 11,
   "metadata": {},
   "outputs": [
    {
     "data": {
      "image/png": "[encoded data removed]",
      "text/plain": [
       "<Figure size 432x288 with 1 Axes>"
      ]
     },
     "metadata": {
      "needs_background": "light"
     },
     "output_type": "display_data"
    }
   ],
   "source": [
    "plt.title(\"Returns and variance\")\n",
    "port_list = [\"port_0\", \"port_1\", \"port_2\", \"port_3\", \"port_4\", \n",
    "            \"port_5\", \"port_6\", \"port_7\", \"port_8\", \"port_9\"]\n",
    "y = avg_return\n",
    "x = var_return\n",
    "for i in range(0, 10):\n",
    "    plt.scatter(x[i], y[i])\n",
    "    plt.text(x[i]*(1.01), y[i]*(1.01), port_list[i], fontsize = 10)\n",
    "# plt.legend(loc = \"lower right\")\n",
    "plt.ylabel(\"Average Return\");\n",
    "plt.xlabel(\"Variance Return\");"
   ]
  },
  {
   "cell_type": "markdown",
   "metadata": {},
   "source": [
    "#### Comment:\n",
    "- From the plot above, I find the average returns is consistantly spread out from 1.6 to 0.4. This can be used to show the data is varied enough such that it does not skewed to high returns or low returns. \n",
    "- Also from the plot above, the variance also shows how unless for the extreme portfolios (first and last), the rest of the portfolios shows little changes in their total values. This shows how similar the returns of the middle companies are. \n",
    "- On the extremem cases of the first and last, it can be interpreted as these companies fluctuates a lot through the past 20 years. The top portfolio returns, and their price are changing over the time. The bottom portfolio shows a lot of return changes over time."
   ]
  },
  {
   "cell_type": "markdown",
   "metadata": {},
   "source": [
    "#### Part d)\n",
    "Check that the portfolios are well-diversified. One way to do this is the following: Divide the variance of the portfolios by its  𝛽 squared. The results should be roughly the same across all portfolios. (The portfolio with the lowest variance may be an exception, for estimating  𝛽  accurately for low-risk portfolios is numerically difficult. However, your results should be consistent for the remaining nine portfolios.)"
   ]
  },
  {
   "cell_type": "code",
   "execution_count": 12,
   "metadata": {
    "scrolled": true
   },
   "outputs": [
    {
     "name": "stdout",
     "output_type": "stream",
     "text": [
      "Portfolio  0  has a diverse score of:  0.0005743627518038517 \n",
      "\n",
      "Portfolio  1  has a diverse score of:  0.00012872387047843735 \n",
      "\n",
      "Portfolio  2  has a diverse score of:  9.06998094784005e-05 \n",
      "\n",
      "Portfolio  3  has a diverse score of:  0.0001095426703355042 \n",
      "\n",
      "Portfolio  4  has a diverse score of:  5.5543632906405094e-05 \n",
      "\n",
      "Portfolio  5  has a diverse score of:  7.283162052788862e-05 \n",
      "\n",
      "Portfolio  6  has a diverse score of:  0.00012725101881055288 \n",
      "\n",
      "Portfolio  7  has a diverse score of:  0.00011502365987802193 \n",
      "\n",
      "Portfolio  8  has a diverse score of:  0.0002953648262088365 \n",
      "\n",
      "Portfolio  9  has a diverse score of:  0.0036254624429545145 \n",
      "\n"
     ]
    }
   ],
   "source": [
    "diverse_value = []\n",
    "for i in range(0, len(var_return)):\n",
    "    diverse_value.append(var_return[i]/float(p_beta_df.values[0]))\n",
    "    print(\"Portfolio \", i, \" has a diverse score of: \", diverse_value[i], \"\\n\")"
   ]
  },
  {
   "cell_type": "markdown",
   "metadata": {},
   "source": [
    "#### Diverse of portfolios:\n",
    "- The diverse score above suggest a decent balance between all portfolios. While Portfolio 9 has a diverse score much higher than others, it is best able to account the diverse level of top performing stocks"
   ]
  },
  {
   "cell_type": "markdown",
   "metadata": {},
   "source": [
    "#### Part e)\n",
    "Repeat parts b) and c) for five-year intervals, i.e., 2002 through 2006, 2007 through 2011, 2012 through 2016 and 2017 through 2021. This procedure is a robustness check to see if your observations hold for individual periods as well."
   ]
  },
  {
   "cell_type": "markdown",
   "metadata": {},
   "source": [
    "Period 2002-2006:"
   ]
  },
  {
   "cell_type": "code",
   "execution_count": 13,
   "metadata": {},
   "outputs": [
    {
     "data": {
      "image/png": "[encoded data removed]",
      "text/plain": [
       "<Figure size 432x288 with 1 Axes>"
      ]
     },
     "metadata": {
      "needs_background": "light"
     },
     "output_type": "display_data"
    }
   ],
   "source": [
    "df0206 = df[0:60]\n",
    "beta = {}\n",
    "for stock in df.columns[:-1]:\n",
    "    mod_fit = sm.ols(data=df0206.loc[:, [stock, \"MKT\"]],\n",
    "                     formula=stock + \"~MKT\").fit()\n",
    "    beta[stock] = mod_fit.params.loc[\"MKT\"]\n",
    "\n",
    "beta_df = pd.DataFrame.from_dict(beta, orient=\"index\", columns=[\"Beta\"]);\n",
    "sorted_beta = beta_df.sort_values(by = \"Beta\", ascending = True)\n",
    "\n",
    "beta_portfolios = {}\n",
    "for i in range(0, 10):\n",
    "    beta_portfolios[\"port_\"+str(i)] = []\n",
    "    for row in range(0, 36):\n",
    "        beta_portfolios[\"port_\"+str(i)].append([sorted_beta.index[36 * i + row], \n",
    "                                               sorted_beta[\"Beta\"][36 * i + row]])\n",
    "avg_return = []\n",
    "var_return = []\n",
    "for portfolio in beta_portfolios:\n",
    "    temp_array = []\n",
    "    for stock in beta_portfolios[portfolio]:\n",
    "        temp_array.append(stock[1])\n",
    "    avg_return.append(mean(temp_array))\n",
    "    var_return.append(variance(temp_array))\n",
    "\n",
    "stock_array = []\n",
    "for portfolio in beta_portfolios:\n",
    "    temp_array = []\n",
    "    for stock in beta_portfolios[portfolio]:\n",
    "        temp_array.append(stock[0])\n",
    "    temp_array.append(\"MKT\")\n",
    "    stock_array.append(temp_array)\n",
    "\n",
    "port_0 = df0206[stock_array[0]].copy()\n",
    "port_0[\"Sum\"] = port_0.sum(axis = 1)\n",
    "port_1 = df0206[stock_array[1]].copy()\n",
    "port_1[\"Sum\"] = port_1.sum(axis = 1)\n",
    "port_2 = df0206[stock_array[2]].copy()\n",
    "port_2[\"Sum\"] = port_2.sum(axis = 1)\n",
    "port_3 = df0206[stock_array[3]].copy()\n",
    "port_3[\"Sum\"] = port_3.sum(axis = 1)\n",
    "port_4 = df0206[stock_array[4]].copy()\n",
    "port_4[\"Sum\"] = port_4.sum(axis = 1)\n",
    "port_5 = df0206[stock_array[5]].copy()\n",
    "port_5[\"Sum\"] = port_5.sum(axis = 1)\n",
    "port_6 = df0206[stock_array[6]].copy()\n",
    "port_6[\"Sum\"] = port_6.sum(axis = 1)\n",
    "port_7 = df0206[stock_array[7]].copy()\n",
    "port_7[\"Sum\"] = port_7.sum(axis = 1)\n",
    "port_8 = df0206[stock_array[8]].copy()\n",
    "port_8[\"Sum\"] = port_8.sum(axis = 1)\n",
    "port_9 = df0206[stock_array[9]].copy()\n",
    "port_9[\"Sum\"] = port_9.sum(axis = 1)\n",
    "port_list = [port_0, port_1, port_2, port_3, port_4, \n",
    "            port_5, port_6, port_7, port_8, port_9]\n",
    "p_beta = {}\n",
    "i = 0\n",
    "for port in port_list:\n",
    "    mod_fit = sm.ols(data = port, formula = \"Sum~MKT\").fit()\n",
    "    p_beta[\"port_\"+str(i)]= mod_fit.params.loc[\"MKT\"]\n",
    "    i = i + 1\n",
    "    \n",
    "p_beta_df = pd.DataFrame.from_dict(p_beta, orient=\"index\", columns=[\"Beta\"])\n",
    "p_beta_df\n",
    "\n",
    "plt.title(\"Returns and variance\")\n",
    "ports_list = [\"port_0\", \"port_1\", \"port_2\", \"port_3\", \"port_4\", \n",
    "            \"port_5\", \"port_6\", \"port_7\", \"port_8\", \"port_9\"]\n",
    "y = avg_return\n",
    "x = var_return\n",
    "for i in range(0, 10):\n",
    "    plt.scatter(x[i], y[i])\n",
    "    plt.text(x[i]*(1.01), y[i]*(1.01), ports_list[i], fontsize = 10)\n",
    "# plt.legend(loc = \"lower right\")\n",
    "plt.ylabel(\"Average Return\");\n",
    "plt.xlabel(\"Variance Return\");"
   ]
  },
  {
   "cell_type": "markdown",
   "metadata": {},
   "source": [
    "Preiod 2007-2011:"
   ]
  },
  {
   "cell_type": "code",
   "execution_count": 14,
   "metadata": {},
   "outputs": [
    {
     "data": {
      "image/png": "[encoded data removed]",
      "text/plain": [
       "<Figure size 432x288 with 1 Axes>"
      ]
     },
     "metadata": {
      "needs_background": "light"
     },
     "output_type": "display_data"
    }
   ],
   "source": [
    "df0711 = df[61:120]\n",
    "beta = {}\n",
    "for stock in df.columns[:-1]:\n",
    "    mod_fit = sm.ols(data=df0711.loc[:, [stock, \"MKT\"]],\n",
    "                     formula=stock + \"~MKT\").fit()\n",
    "    beta[stock] = mod_fit.params.loc[\"MKT\"]\n",
    "\n",
    "beta_df = pd.DataFrame.from_dict(beta, orient=\"index\", columns=[\"Beta\"]);\n",
    "sorted_beta = beta_df.sort_values(by = \"Beta\", ascending = True)\n",
    "\n",
    "beta_portfolios = {}\n",
    "for i in range(0, 10):\n",
    "    beta_portfolios[\"port_\"+str(i)] = []\n",
    "    for row in range(0, 36):\n",
    "        beta_portfolios[\"port_\"+str(i)].append([sorted_beta.index[36 * i + row], \n",
    "                                               sorted_beta[\"Beta\"][36 * i + row]])\n",
    "avg_return = []\n",
    "var_return = []\n",
    "for portfolio in beta_portfolios:\n",
    "    temp_array = []\n",
    "    for stock in beta_portfolios[portfolio]:\n",
    "        temp_array.append(stock[1])\n",
    "    avg_return.append(mean(temp_array))\n",
    "    var_return.append(variance(temp_array))\n",
    "\n",
    "stock_array = []\n",
    "for portfolio in beta_portfolios:\n",
    "    temp_array = []\n",
    "    for stock in beta_portfolios[portfolio]:\n",
    "        temp_array.append(stock[0])\n",
    "    temp_array.append(\"MKT\")\n",
    "    stock_array.append(temp_array)\n",
    "\n",
    "port_0 = df0711[stock_array[0]].copy()\n",
    "port_0[\"Sum\"] = port_0.sum(axis = 1)\n",
    "port_1 = df0711[stock_array[1]].copy()\n",
    "port_1[\"Sum\"] = port_1.sum(axis = 1)\n",
    "port_2 = df0711[stock_array[2]].copy()\n",
    "port_2[\"Sum\"] = port_2.sum(axis = 1)\n",
    "port_3 = df0711[stock_array[3]].copy()\n",
    "port_3[\"Sum\"] = port_3.sum(axis = 1)\n",
    "port_4 = df0711[stock_array[4]].copy()\n",
    "port_4[\"Sum\"] = port_4.sum(axis = 1)\n",
    "port_5 = df0711[stock_array[5]].copy()\n",
    "port_5[\"Sum\"] = port_5.sum(axis = 1)\n",
    "port_6 = df0711[stock_array[6]].copy()\n",
    "port_6[\"Sum\"] = port_6.sum(axis = 1)\n",
    "port_7 = df0711[stock_array[7]].copy()\n",
    "port_7[\"Sum\"] = port_7.sum(axis = 1)\n",
    "port_8 = df0711[stock_array[8]].copy()\n",
    "port_8[\"Sum\"] = port_8.sum(axis = 1)\n",
    "port_9 = df0711[stock_array[9]].copy()\n",
    "port_9[\"Sum\"] = port_9.sum(axis = 1)\n",
    "port_list = [port_0, port_1, port_2, port_3, port_4, \n",
    "            port_5, port_6, port_7, port_8, port_9]\n",
    "\n",
    "p_beta = {}\n",
    "i = 0\n",
    "for port in port_list:\n",
    "    mod_fit = sm.ols(data = port, formula = \"Sum~MKT\").fit()\n",
    "    p_beta[\"port_\"+str(i)]= mod_fit.params.loc[\"MKT\"]\n",
    "    i = i + 1\n",
    "    \n",
    "p_beta_df = pd.DataFrame.from_dict(p_beta, orient=\"index\", columns=[\"Beta\"])\n",
    "p_beta_df\n",
    "\n",
    "plt.title(\"Returns and variance\")\n",
    "ports_list = [\"port_0\", \"port_1\", \"port_2\", \"port_3\", \"port_4\", \n",
    "            \"port_5\", \"port_6\", \"port_7\", \"port_8\", \"port_9\"]\n",
    "y = avg_return\n",
    "x = var_return\n",
    "for i in range(0, 10):\n",
    "    plt.scatter(x[i], y[i])\n",
    "    plt.text(x[i]*(1.01), y[i]*(1.01), ports_list[i], fontsize = 10)\n",
    "# plt.legend(loc = \"lower right\")\n",
    "plt.ylabel(\"Average Return\");\n",
    "plt.xlabel(\"Variance Return\");"
   ]
  },
  {
   "cell_type": "markdown",
   "metadata": {},
   "source": [
    "Period 2012-2016:"
   ]
  },
  {
   "cell_type": "code",
   "execution_count": 15,
   "metadata": {},
   "outputs": [
    {
     "data": {
      "image/png": "[encoded data removed]",
      "text/plain": [
       "<Figure size 432x288 with 1 Axes>"
      ]
     },
     "metadata": {
      "needs_background": "light"
     },
     "output_type": "display_data"
    }
   ],
   "source": [
    "df1216 = df[121:180]\n",
    "beta = {}\n",
    "for stock in df.columns[:-1]:\n",
    "    mod_fit = sm.ols(data=df1216.loc[:, [stock, \"MKT\"]],\n",
    "                     formula=stock + \"~MKT\").fit()\n",
    "    beta[stock] = mod_fit.params.loc[\"MKT\"]\n",
    "\n",
    "beta_df = pd.DataFrame.from_dict(beta, orient=\"index\", columns=[\"Beta\"]);\n",
    "sorted_beta = beta_df.sort_values(by = \"Beta\", ascending = True)\n",
    "\n",
    "beta_portfolios = {}\n",
    "for i in range(0, 10):\n",
    "    beta_portfolios[\"port_\"+str(i)] = []\n",
    "    for row in range(0, 36):\n",
    "        beta_portfolios[\"port_\"+str(i)].append([sorted_beta.index[36 * i + row], \n",
    "                                               sorted_beta[\"Beta\"][36 * i + row]])\n",
    "avg_return = []\n",
    "var_return = []\n",
    "for portfolio in beta_portfolios:\n",
    "    temp_array = []\n",
    "    for stock in beta_portfolios[portfolio]:\n",
    "        temp_array.append(stock[1])\n",
    "    avg_return.append(mean(temp_array))\n",
    "    var_return.append(variance(temp_array))\n",
    "\n",
    "stock_array = []\n",
    "for portfolio in beta_portfolios:\n",
    "    temp_array = []\n",
    "    for stock in beta_portfolios[portfolio]:\n",
    "        temp_array.append(stock[0])\n",
    "    temp_array.append(\"MKT\")\n",
    "    stock_array.append(temp_array)\n",
    "\n",
    "port_0 = df1216[stock_array[0]].copy()\n",
    "port_0[\"Sum\"] = port_0.sum(axis = 1)\n",
    "port_1 = df1216[stock_array[1]].copy()\n",
    "port_1[\"Sum\"] = port_1.sum(axis = 1)\n",
    "port_2 = df1216[stock_array[2]].copy()\n",
    "port_2[\"Sum\"] = port_2.sum(axis = 1)\n",
    "port_3 = df1216[stock_array[3]].copy()\n",
    "port_3[\"Sum\"] = port_3.sum(axis = 1)\n",
    "port_4 = df1216[stock_array[4]].copy()\n",
    "port_4[\"Sum\"] = port_4.sum(axis = 1)\n",
    "port_5 = df1216[stock_array[5]].copy()\n",
    "port_5[\"Sum\"] = port_5.sum(axis = 1)\n",
    "port_6 = df1216[stock_array[6]].copy()\n",
    "port_6[\"Sum\"] = port_6.sum(axis = 1)\n",
    "port_7 = df1216[stock_array[7]].copy()\n",
    "port_7[\"Sum\"] = port_7.sum(axis = 1)\n",
    "port_8 = df1216[stock_array[8]].copy()\n",
    "port_8[\"Sum\"] = port_8.sum(axis = 1)\n",
    "port_9 = df1216[stock_array[9]].copy()\n",
    "port_9[\"Sum\"] = port_9.sum(axis = 1)\n",
    "port_list = [port_0, port_1, port_2, port_3, port_4, \n",
    "            port_5, port_6, port_7, port_8, port_9]\n",
    "\n",
    "p_beta = {}\n",
    "i = 0\n",
    "for port in port_list:\n",
    "    mod_fit = sm.ols(data = port, formula = \"Sum~MKT\").fit()\n",
    "    p_beta[\"port_\"+str(i)]= mod_fit.params.loc[\"MKT\"]\n",
    "    i = i + 1\n",
    "    \n",
    "p_beta_df = pd.DataFrame.from_dict(p_beta, orient=\"index\", columns=[\"Beta\"])\n",
    "p_beta_df\n",
    "\n",
    "plt.title(\"Returns and variance\")\n",
    "ports_list = [\"port_0\", \"port_1\", \"port_2\", \"port_3\", \"port_4\", \n",
    "            \"port_5\", \"port_6\", \"port_7\", \"port_8\", \"port_9\"]\n",
    "y = avg_return\n",
    "x = var_return\n",
    "for i in range(0, 10):\n",
    "    plt.scatter(x[i], y[i])\n",
    "    plt.text(x[i]*(1.01), y[i]*(1.01), ports_list[i], fontsize = 10)\n",
    "# plt.legend(loc = \"lower right\")\n",
    "plt.ylabel(\"Average Return\");\n",
    "plt.xlabel(\"Variance Return\");"
   ]
  },
  {
   "cell_type": "markdown",
   "metadata": {},
   "source": [
    "Period 2017-2021:"
   ]
  },
  {
   "cell_type": "code",
   "execution_count": 16,
   "metadata": {},
   "outputs": [
    {
     "data": {
      "image/png": "[encoded data removed]",
      "text/plain": [
       "<Figure size 432x288 with 1 Axes>"
      ]
     },
     "metadata": {
      "needs_background": "light"
     },
     "output_type": "display_data"
    }
   ],
   "source": [
    "df1721 = df[181:240]\n",
    "beta = {}\n",
    "for stock in df.columns[:-1]:\n",
    "    mod_fit = sm.ols(data=df1721.loc[:, [stock, \"MKT\"]],\n",
    "                     formula=stock + \"~MKT\").fit()\n",
    "    beta[stock] = mod_fit.params.loc[\"MKT\"]\n",
    "\n",
    "beta_df = pd.DataFrame.from_dict(beta, orient=\"index\", columns=[\"Beta\"]);\n",
    "sorted_beta = beta_df.sort_values(by = \"Beta\", ascending = True)\n",
    "\n",
    "beta_portfolios = {}\n",
    "for i in range(0, 10):\n",
    "    beta_portfolios[\"port_\"+str(i)] = []\n",
    "    for row in range(0, 36):\n",
    "        beta_portfolios[\"port_\"+str(i)].append([sorted_beta.index[36 * i + row], \n",
    "                                               sorted_beta[\"Beta\"][36 * i + row]])\n",
    "avg_return = []\n",
    "var_return = []\n",
    "for portfolio in beta_portfolios:\n",
    "    temp_array = []\n",
    "    for stock in beta_portfolios[portfolio]:\n",
    "        temp_array.append(stock[1])\n",
    "    avg_return.append(mean(temp_array))\n",
    "    var_return.append(variance(temp_array))\n",
    "\n",
    "stock_array = []\n",
    "for portfolio in beta_portfolios:\n",
    "    temp_array = []\n",
    "    for stock in beta_portfolios[portfolio]:\n",
    "        temp_array.append(stock[0])\n",
    "    temp_array.append(\"MKT\")\n",
    "    stock_array.append(temp_array)\n",
    "\n",
    "port_0 = df1721[stock_array[0]].copy()\n",
    "port_0[\"Sum\"] = port_0.sum(axis = 1)\n",
    "port_1 = df1721[stock_array[1]].copy()\n",
    "port_1[\"Sum\"] = port_1.sum(axis = 1)\n",
    "port_2 = df1721[stock_array[2]].copy()\n",
    "port_2[\"Sum\"] = port_2.sum(axis = 1)\n",
    "port_3 = df1721[stock_array[3]].copy()\n",
    "port_3[\"Sum\"] = port_3.sum(axis = 1)\n",
    "port_4 = df1721[stock_array[4]].copy()\n",
    "port_4[\"Sum\"] = port_4.sum(axis = 1)\n",
    "port_5 = df1721[stock_array[5]].copy()\n",
    "port_5[\"Sum\"] = port_5.sum(axis = 1)\n",
    "port_6 = df1721[stock_array[6]].copy()\n",
    "port_6[\"Sum\"] = port_6.sum(axis = 1)\n",
    "port_7 = df1721[stock_array[7]].copy()\n",
    "port_7[\"Sum\"] = port_7.sum(axis = 1)\n",
    "port_8 = df1721[stock_array[8]].copy()\n",
    "port_8[\"Sum\"] = port_8.sum(axis = 1)\n",
    "port_9 = df1721[stock_array[9]].copy()\n",
    "port_9[\"Sum\"] = port_9.sum(axis = 1)\n",
    "port_list = [port_0, port_1, port_2, port_3, port_4, \n",
    "            port_5, port_6, port_7, port_8, port_9]\n",
    "\n",
    "p_beta = {}\n",
    "i = 0\n",
    "for port in port_list:\n",
    "    mod_fit = sm.ols(data = port, formula = \"Sum~MKT\").fit()\n",
    "    p_beta[\"port_\"+str(i)]= mod_fit.params.loc[\"MKT\"]\n",
    "    i = i + 1\n",
    "    \n",
    "p_beta_df = pd.DataFrame.from_dict(p_beta, orient=\"index\", columns=[\"Beta\"])\n",
    "p_beta_df\n",
    "\n",
    "plt.title(\"Returns and variance\")\n",
    "ports_list = [\"port_0\", \"port_1\", \"port_2\", \"port_3\", \"port_4\", \n",
    "            \"port_5\", \"port_6\", \"port_7\", \"port_8\", \"port_9\"]\n",
    "y = avg_return\n",
    "x = var_return\n",
    "for i in range(0, 10):\n",
    "    plt.scatter(x[i], y[i])\n",
    "    plt.text(x[i]*(1.01), y[i]*(1.01), ports_list[i], fontsize = 10)\n",
    "# plt.legend(loc = \"lower right\")\n",
    "plt.ylabel(\"Average Return\");\n",
    "plt.xlabel(\"Variance Return\");"
   ]
  },
  {
   "cell_type": "markdown",
   "metadata": {},
   "source": [
    "##### Summary Answer:\n",
    "Based on the repeated trials above from the 4 5-year periods, we can see the similarities between them, especially when it comes to the variance return of the portfolios. While there is always an outstanding one - that returns the most value for investors who has stocks from that group - that portfolio consistantly has the highest variance return. <br>\n",
    "\n",
    "This is consistant with our knowledge of how top performing companies are usually leaders of the industry, and in this case, would be the lead earning of stock investments. Their variance is large can also be taken into consideration of their growth over the 5-year period. Larger growth or larger value gain would also lead to this high variance. <br>\n",
    "\n",
    "Lastly, the dipped from period to period also shows the real life market effect, such as the .5 drop in average return and distinctly smaller variance after the 2007-2008 market crash. Also shown again on the 2017-2021 market shrink because innovation and market growth of the US companies at the time. The period between 2012-2016 best portraits a growing and lively market, regrowing back from the 2008 event.  <br> \n",
    ">Overall, we have explore how the low volatility anomaly. While it is easy to understand how low volatility stocks can earn steady money, our models have shown them to have slightly less return than high volatility stocks. We should take into consideration how out of 360 stocks we consider, only 36 of them are highly volatile, while the rest are of small volatility, they make up for the rest of the return"
   ]
  }
 ],
 "metadata": {
  "kernelspec": {
   "display_name": "Python 3",
   "language": "python",
   "name": "python3"
  },
  "language_info": {
   "codemirror_mode": {
    "name": "ipython",
    "version": 3
   },
   "file_extension": ".py",
   "mimetype": "text/x-python",
   "name": "python",
   "nbconvert_exporter": "python",
   "pygments_lexer": "ipython3",
   "version": "3.8.5"
  }
 },
 "nbformat": 4,
 "nbformat_minor": 4
}
